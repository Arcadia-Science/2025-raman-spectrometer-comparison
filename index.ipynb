{
 "cells": [
  {
   "cell_type": "raw",
   "id": "170215c2",
   "metadata": {
    "vscode": {
     "languageId": "raw"
    }
   },
   "source": [
    "---\n",
    "title: \"{{< var pub.title >}} --\"\n",
    "date: 'January 13, 2025'\n",
    "abstract-title: \"Summary\"\n",
    "---"
   ]
  },
  {
   "cell_type": "markdown",
   "id": "42a2ab58-9efe-4758-a50d-8f9e011fe2cd",
   "metadata": {},
   "source": [
    "## Abstract\n",
    "\n",
    "Basically we tested a bunch of spectrometers with standard samples like acetonitrile as well as in-house samples that we'd ultimate do experiments with such as different strains of chlamydomonas. In order to make an informed decision, we characterized the spectra in terms of spectral resolution, spectral accuracy, SNR, and ability to resolve (primarily carotenoid) peaks in the chlamydomonas spectrum. To facilitate data processing and characterization we also created an open source Python package, ramanalysis.\n",
    "\n",
    "## Introduction\n",
    "\n",
    "Introduction"
   ]
  },
  {
   "cell_type": "code",
   "execution_count": 7,
   "id": "1b303d6e",
   "metadata": {},
   "outputs": [],
   "source": [
    "from pathlib import Path\n",
    "\n",
    "import arcadia_pycolor as apc"
   ]
  },
  {
   "cell_type": "markdown",
   "id": "7386bdb7",
   "metadata": {},
   "source": [
    "## Results\n",
    "\n",
    "### Characterizing acetonitrile spectra\n",
    "\n",
    "**Note**:  \n",
    "*Need to organize the data and make it accessible. If small, can go on GitHub. Otherwise will have to upload to Zenodo and provide instructions on how to download it.*"
   ]
  },
  {
   "cell_type": "code",
   "execution_count": 8,
   "id": "18fa72b1",
   "metadata": {},
   "outputs": [
    {
     "data": {
      "text/plain": [
       "11"
      ]
     },
     "execution_count": 8,
     "metadata": {},
     "output_type": "execute_result"
    }
   ],
   "source": [
    "3 + 8"
   ]
  }
 ],
 "metadata": {
  "jupytext": {
   "formats": "ipynb,py:percent"
  },
  "kernelspec": {
   "display_name": "2025-raman-spectrometer-comparison",
   "language": "python",
   "name": "python3"
  },
  "language_info": {
   "codemirror_mode": {
    "name": "ipython",
    "version": 3
   },
   "file_extension": ".py",
   "mimetype": "text/x-python",
   "name": "python",
   "nbconvert_exporter": "python",
   "pygments_lexer": "ipython3",
   "version": "3.12.8"
  }
 },
 "nbformat": 4,
 "nbformat_minor": 5
}
