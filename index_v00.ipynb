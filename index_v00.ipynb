{
 "cells": [
  {
   "cell_type": "raw",
   "id": "170215c2",
   "metadata": {
    "vscode": {
     "languageId": "raw"
    }
   },
   "source": [
    "---\n",
    "title: \"{{< var pub.title >}}\"\n",
    "author:\n",
    "  - name: Evan Kiefl\n",
    "    orcid: 0000-0002-6473-0921\n",
    "    corresponding: true\n",
    "    email: evan.kiefl@arcadiascience.com\n",
    "date: 'January 1, 2025'\n",
    "---"
   ]
  },
  {
   "cell_type": "markdown",
   "id": "42a2ab58-9efe-4758-a50d-8f9e011fe2cd",
   "metadata": {},
   "source": [
    "## Introduction\n",
    "\n",
    "This is a placeholder page to demonstrate that pubs are versionable. For instructions on how to revise a publication, see [CONTRIBUTING.qmd](CONTRIBUTING.qmd)."
   ]
  }
 ],
 "metadata": {
  "jupytext": {
   "formats": "ipynb,py:percent"
  },
  "kernelspec": {
   "display_name": "paired-token-masking",
   "language": "python",
   "name": "python3"
  },
  "language_info": {
   "codemirror_mode": {
    "name": "ipython",
    "version": 3
   },
   "file_extension": ".py",
   "mimetype": "text/x-python",
   "name": "python",
   "nbconvert_exporter": "python",
   "pygments_lexer": "ipython3",
   "version": "3.12.7"
  }
 },
 "nbformat": 4,
 "nbformat_minor": 5
}
